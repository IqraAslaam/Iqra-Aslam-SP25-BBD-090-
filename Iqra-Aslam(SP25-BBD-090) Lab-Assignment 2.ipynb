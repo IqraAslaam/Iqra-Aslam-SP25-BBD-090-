{
 "cells": [
  {
   "cell_type": "markdown",
   "id": "72ad5396-b736-40c4-a3c0-03f727b5242b",
   "metadata": {},
   "source": [
    "Lab Assignment 2"
   ]
  },
  {
   "cell_type": "markdown",
   "id": "a56e9dda-2c1a-4276-afdd-a92ddbf986e0",
   "metadata": {},
   "source": [
    "Question no 1. Write a Python program that asks the user to enter their age and income. \n",
    "If the user is 21 years or older and has an income above $25,000, print \"Eligible for \n",
    "membership.\" Otherwise, print \"Not eligible.\" "
   ]
  },
  {
   "cell_type": "code",
   "execution_count": 2,
   "id": "8d0d6f29-daf7-4eeb-bb24-ea45d871a0f0",
   "metadata": {},
   "outputs": [
    {
     "name": "stdin",
     "output_type": "stream",
     "text": [
      "Enter your age: 20\n",
      "Enter your income: 25000\n"
     ]
    },
    {
     "name": "stdout",
     "output_type": "stream",
     "text": [
      "Not Eligible.\n"
     ]
    }
   ],
   "source": [
    "age=int(input(\"Enter your age:\"))\n",
    "income=float(input(\"Enter your income:\"))\n",
    "if age >=21 and income >25000:\n",
    "    print(\"Eligible for membership.\")\n",
    "else:\n",
    "    print(\"Not Eligible.\")"
   ]
  },
  {
   "cell_type": "markdown",
   "id": "18f1e62b-141f-4934-b81a-69dcad10f8a4",
   "metadata": {},
   "source": [
    "Question no 2. Create a Python program that accepts a number from the user. \n",
    "If the number is divisible by both 3 and 5, print \"FizzBuzz.\" \n",
    "If only divisible by 3, print \"Fizz.\" \n",
    "If only divisible by 5, print \"Buzz.\" \n",
    "Otherwise, print the number itself. "
   ]
  },
  {
   "cell_type": "code",
   "execution_count": 5,
   "id": "71acc1bd-0480-4250-82ba-0bfb700d5165",
   "metadata": {},
   "outputs": [
    {
     "name": "stdin",
     "output_type": "stream",
     "text": [
      "Enter a number: 10\n"
     ]
    },
    {
     "name": "stdout",
     "output_type": "stream",
     "text": [
      "Buzz\n"
     ]
    }
   ],
   "source": [
    "number=int(input(\"Enter a number:\"))\n",
    "if number %3==0 and number % 5==0:\n",
    "    print(\"FizzBuzz\")\n",
    "elif number%3==0:\n",
    "    print(\"Fizz\")\n",
    "elif number%5==0:\n",
    "    print(\"Buzz\")\n",
    "else:\n",
    "    print(number)"
   ]
  },
  {
   "cell_type": "markdown",
   "id": "3f4c9027-1c74-453c-93af-fabba9853f6b",
   "metadata": {},
   "source": [
    "Question no 3. Write a Python script to determine if a character entered by the user is a vowel, \n",
    "consonant, digit, or special character. \n",
    "(Hint: use elif and logical operators.) "
   ]
  },
  {
   "cell_type": "code",
   "execution_count": 8,
   "id": "4069219b-119b-4a0f-8867-69abbb51546d",
   "metadata": {},
   "outputs": [
    {
     "name": "stdin",
     "output_type": "stream",
     "text": [
      "Enter a single character: e\n"
     ]
    },
    {
     "name": "stdout",
     "output_type": "stream",
     "text": [
      "Vowel\n"
     ]
    }
   ],
   "source": [
    "char=input(\"Enter a single character:\")\n",
    "if len(char)!=1:\n",
    "    print(\"Please enter exactly one character\")\n",
    "else:\n",
    "    if char.isalpha():\n",
    "        if char.lower() in 'aeiou':\n",
    "            print(\"Vowel\")\n",
    "        else:\n",
    "            print(\"Consonant\")"
   ]
  },
  {
   "cell_type": "markdown",
   "id": "3f496714-5947-450c-87d1-87aaad156353",
   "metadata": {},
   "source": [
    "Question no 4. Develop a program where the user enters the current day name (e.g., Monday, \n",
    "Tuesday). \n",
    "If it is Saturday or Sunday, print \"Enjoy your weekend!\" \n",
    "If it is a weekday, print \"Time to work!\" \n",
    "Use chained conditions with or. "
   ]
  },
  {
   "cell_type": "code",
   "execution_count": 10,
   "id": "2dd29df5-2045-4819-a2c9-b8d69b81c630",
   "metadata": {},
   "outputs": [
    {
     "name": "stdin",
     "output_type": "stream",
     "text": [
      "Enter the current day(e.g,Monday): wednesday\n"
     ]
    },
    {
     "name": "stdout",
     "output_type": "stream",
     "text": [
      "Time to work!\n"
     ]
    }
   ],
   "source": [
    "day=input(\"Enter the current day(e.g,Monday):\")\n",
    "day=day.strip().title()\n",
    "if day==\"Saturday\" or day==\"Sunday\":\n",
    "    print(\"Enter your weekend!\")\n",
    "else:\n",
    "    print(\"Time to work!\")"
   ]
  },
  {
   "cell_type": "markdown",
   "id": "9275ea3f-625d-4784-b805-35666c74adce",
   "metadata": {},
   "source": [
    "Question no 5. A company o ers bonuses to employees based on years of service: \n",
    "10 or more years: 20% bonus \n",
    "5 to 9 years: 10% bonus \n",
    "Less than 5 years: 5% bonus \n",
    "Write a program that asks the user for their years of service and current salary, then \n",
    "prints the bonus amount."
   ]
  },
  {
   "cell_type": "code",
   "execution_count": 13,
   "id": "db8b1e7d-2eb6-4b6c-a809-35d7861903d4",
   "metadata": {},
   "outputs": [
    {
     "name": "stdin",
     "output_type": "stream",
     "text": [
      "Enter your years of service: 5\n",
      "Enter your current salary: 400\n"
     ]
    }
   ],
   "source": [
    "years=int(input(\"Enter your years of service:\"))\n",
    "salary=float(input(\"Enter your current salary:\"))\n",
    "if years>=10:\n",
    "    bonus_rate=0.20\n",
    "elif years>=5:\n",
    "    bonus_rate=0.10\n",
    "else:\n",
    "    bonus_rate=0.05\n",
    "    bonus=salary*bonus_rate\n",
    "    print(f\"Your bonus is :${bonus:.2f}\")"
   ]
  },
  {
   "cell_type": "markdown",
   "id": "7bb93768-3b44-427d-8f63-503993804774",
   "metadata": {},
   "source": [
    "Question no 6.Write a Python program using nested if statements that checks: \n",
    "If a number entered by the user is positive, negative, or zero. \n",
    "If it is positive, also check whether it is even or odd and print the result."
   ]
  },
  {
   "cell_type": "code",
   "execution_count": 15,
   "id": "8346888d-f822-469d-ac59-da3af9b32435",
   "metadata": {},
   "outputs": [
    {
     "name": "stdin",
     "output_type": "stream",
     "text": [
      "Enter a number: -4\n"
     ]
    },
    {
     "name": "stdout",
     "output_type": "stream",
     "text": [
      "The number is negative.\n"
     ]
    }
   ],
   "source": [
    "number=float(input(\"Enter a number:\"))\n",
    "if number>0:\n",
    "    print(\"The number is positive.\")\n",
    "    if number%2==0:\n",
    "        print(\"It is even\")\n",
    "    else:\n",
    "        print(\"It is odd.\")\n",
    "elif number<0:\n",
    "    print(\"The number is negative.\")\n",
    "else:\n",
    "    print(\"the number is zero.\")"
   ]
  },
  {
   "cell_type": "markdown",
   "id": "e4db8b05-12e4-4bc8-ad83-388d2de0b666",
   "metadata": {},
   "source": [
    "Question no 7. Write a program to check if a number is positive, negative, or zero"
   ]
  },
  {
   "cell_type": "code",
   "execution_count": 16,
   "id": "274e13dc-95ad-47a2-af44-63f8395a9c29",
   "metadata": {},
   "outputs": [
    {
     "name": "stdin",
     "output_type": "stream",
     "text": [
      "Enter a number: 7\n"
     ]
    },
    {
     "name": "stdout",
     "output_type": "stream",
     "text": [
      "The number is positive\n"
     ]
    }
   ],
   "source": [
    "num=float(input(\"Enter a number:\"))\n",
    "if num>0:\n",
    "    print(\"The number is positive\")\n",
    "elif num <0:\n",
    "    print(\"The number is negative\")\n",
    "else:\n",
    "    print(\"The number is zero\")"
   ]
  },
  {
   "cell_type": "markdown",
   "id": "97541615-9fd3-4fad-9d3e-79f1e658fe18",
   "metadata": {},
   "source": [
    "Question no 8. Create a program to determine whether a given year is a leap year."
   ]
  },
  {
   "cell_type": "code",
   "execution_count": 18,
   "id": "e5349e5e-2fd4-4b05-8da9-8d34bac6c2c2",
   "metadata": {},
   "outputs": [
    {
     "name": "stdin",
     "output_type": "stream",
     "text": [
      "Enter a year: 8\n"
     ]
    },
    {
     "name": "stdout",
     "output_type": "stream",
     "text": [
      "8is a leap year.\n"
     ]
    }
   ],
   "source": [
    "year=int(input(\"Enter a year:\"))\n",
    "if (year%4==0 and year%100!=0):\n",
    "    print(f\"{year}is a leap year.\")\n",
    "else:\n",
    "    print(f\"{year} is not a leap year.\")"
   ]
  },
  {
   "cell_type": "markdown",
   "id": "8cb04b1f-3576-42d7-bb95-077c94cdd890",
   "metadata": {},
   "source": [
    "Question no 9. Build a simple calculator that asks for two numbers and an operator (+, -, *, /) and prints the result."
   ]
  },
  {
   "cell_type": "code",
   "execution_count": 19,
   "id": "498cd0e5-8d3f-4655-a687-ce6db185fb89",
   "metadata": {},
   "outputs": [
    {
     "name": "stdin",
     "output_type": "stream",
     "text": [
      "Enter the first number: 45\n",
      "Enter the second number: 23\n",
      "Enter an operator(+,-,*,/): *\n"
     ]
    },
    {
     "name": "stdout",
     "output_type": "stream",
     "text": [
      "result: 1035.0\n"
     ]
    }
   ],
   "source": [
    "number1=float(input(\"Enter the first number:\"))\n",
    "number2=float(input(\"Enter the second number:\"))\n",
    "operator=input(\"Enter an operator(+,-,*,/):\")\n",
    "if operator=='+':\n",
    "    result=number1+number2\n",
    "    print(\"result:\",result)\n",
    "elif operator=='-':\n",
    "    result=number1-number2\n",
    "    print(\"result:\",result)\n",
    "elif operator=='*':\n",
    "    result=number1*number2\n",
    "    print(\"result:\",result)\n",
    "else:\n",
    "    print(\"Invalid operator\")"
   ]
  },
  {
   "cell_type": "markdown",
   "id": "94599274-b6cb-43b8-964a-a90e2f4c6740",
   "metadata": {},
   "source": [
    "Question no 10.Write a Python program that accepts a student's marks and prints the appropriate grade based on the following criteria:\n",
    "A: 85 and above B: 70 to 84 C: 50 to 69 F: Below 50"
   ]
  },
  {
   "cell_type": "code",
   "execution_count": 20,
   "id": "5a1132a3-52cd-4fcb-afa3-8e001c9cfef3",
   "metadata": {},
   "outputs": [
    {
     "name": "stdin",
     "output_type": "stream",
     "text": [
      "Student's Marks :  65\n"
     ]
    },
    {
     "name": "stdout",
     "output_type": "stream",
     "text": [
      "Grade: B\n"
     ]
    }
   ],
   "source": [
    "marks = int(input(\"Student's Marks : \"))\n",
    "if(marks>=85):\n",
    "    print(\"Grade: A\")\n",
    "elif(marks>70 & marks<84):\n",
    "    print(\"Grade: B\")\n",
    "elif(marks>50 & marks<69):\n",
    "    print(\"Grade: C\")\n",
    "elif(marks<50):\n",
    "    print(\"Grade: F\")"
   ]
  },
  {
   "cell_type": "code",
   "execution_count": null,
   "id": "6ea7d76b-3fa3-4bf4-8c13-e81bc56b9c95",
   "metadata": {},
   "outputs": [],
   "source": []
  }
 ],
 "metadata": {
  "kernelspec": {
   "display_name": "Python 3 (ipykernel)",
   "language": "python",
   "name": "python3"
  },
  "language_info": {
   "codemirror_mode": {
    "name": "ipython",
    "version": 3
   },
   "file_extension": ".py",
   "mimetype": "text/x-python",
   "name": "python",
   "nbconvert_exporter": "python",
   "pygments_lexer": "ipython3",
   "version": "3.12.7"
  }
 },
 "nbformat": 4,
 "nbformat_minor": 5
}
